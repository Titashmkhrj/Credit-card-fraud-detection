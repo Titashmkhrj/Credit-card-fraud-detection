{
  "nbformat": 4,
  "nbformat_minor": 0,
  "metadata": {
    "colab": {
      "name": "HPO_MS_TEST.ipynb",
      "provenance": [],
      "collapsed_sections": [],
      "mount_file_id": "1LNEYDIB5XThvXFYduhUdM-PwpmxMK38L",
      "authorship_tag": "ABX9TyOA6a2Wn4fpIHC4xz6fI/H6",
      "include_colab_link": true
    },
    "kernelspec": {
      "name": "python3",
      "display_name": "Python 3"
    }
  },
  "cells": [
    {
      "cell_type": "markdown",
      "metadata": {
        "id": "view-in-github",
        "colab_type": "text"
      },
      "source": [
        "<a href=\"https://colab.research.google.com/github/Titashmkhrj/Credit-card-fraud-detection/blob/master/HPO_MS_TEST.ipynb\" target=\"_parent\"><img src=\"https://colab.research.google.com/assets/colab-badge.svg\" alt=\"Open In Colab\"/></a>"
      ]
    },
    {
      "cell_type": "code",
      "metadata": {
        "id": "xy3adweSMu8_",
        "colab_type": "code",
        "colab": {
          "base_uri": "https://localhost:8080/",
          "height": 1000
        },
        "outputId": "534ac5e2-6b4c-40bc-980c-e8f9b39bed58"
      },
      "source": [
        "# importing the required libraries\n",
        "import numpy as np\n",
        "import pandas as pd\n",
        "\n",
        "import imblearn \n",
        "from imblearn.over_sampling import SMOTE\n",
        "\n",
        "from sklearn.linear_model import (LogisticRegression, PassiveAggressiveClassifier, RidgeClassifier)\n",
        "from sklearn.neighbors import KNeighborsClassifier\n",
        "from sklearn.svm import SVC\n",
        "from sklearn.tree import DecisionTreeClassifier\n",
        "from sklearn.ensemble import RandomForestClassifier\n",
        "\n",
        "from sklearn.preprocessing import StandardScaler\n",
        "from sklearn.model_selection import (RandomizedSearchCV, train_test_split, cross_val_score)\n",
        "\n",
        "\n",
        "# models as per the sequence in the parameter grid \n",
        "model_objects = [LogisticRegression(),\n",
        "                 LogisticRegression(),\n",
        "\t\t\t\t\t\t\t\t LogisticRegression(),\n",
        "\t\t\t\t\t\t\t\t PassiveAggressiveClassifier(),\n",
        "\t\t\t\t\t\t\t\t RidgeClassifier(),\n",
        "\t\t\t\t\t\t\t\t KNeighborsClassifier(),\n",
        "\t\t\t\t\t\t\t\t SVC(),\n",
        "\t\t\t\t\t\t\t\t DecisionTreeClassifier(),\n",
        "\t\t\t\t\t\t\t\t RandomForestClassifier()]\n",
        "\n",
        "\n",
        "\n",
        "# hyoer-parameter dictionary for the tunningof the models\n",
        "parameter_grid = {'LR_l1' : {'penalty' : ['l1'],\n",
        "                              'C' : [0.001, 0.01, 0.1, 1, 10, 100],\n",
        "                              'random_state' : [42],\n",
        "                              'solver' : ['liblinear', 'saga'],\n",
        "                              'max_iter' : [100000]\n",
        "                          },\n",
        "\t\t\t\t\n",
        "                  'LR_l2' : {'penalty' : ['l2'],\n",
        "                              'C' : [0.001, 0.01, 0.1, 1, 10, 100],\n",
        "                              'random_state' : [42],\n",
        "                              'solver' : ['newton-cg', 'lbfgs', 'sag', 'saga'],\n",
        "                              'max_iter' : [100000]\n",
        "                          },\n",
        "\n",
        "                  'LR_ElNet' : {'penalty' : ['elasticnet'],\n",
        "                                'l1_ratio' : [0.3, 0.5, 0.7],\n",
        "                                'C' : [0.001, 0.01, 0.1, 1, 10, 100],\n",
        "                                'random_state' : [42],\n",
        "                                'solver' : ['saga'],\n",
        "                                'max_iter' : [100000]\n",
        "                              },\n",
        "\n",
        "                  'Pass_Agg_clif' : {'c' : [0.001, 0.01, 0.1, 1, 10, 100],\n",
        "                                      'fit_intercept' : ['True', 'False'],\n",
        "                                      'random_state' : [42],\n",
        "                                      'loss' : ['hinge', 'squared_hinge'],\n",
        "                                      'class_weight' : ['balanced', None]\n",
        "                                  },\n",
        "                  \n",
        "                  'Ridge_clif' : {'alpha' : [500.0, 50.0, 5.0, 0.5, 0.05, 0.005],\n",
        "                                  'fit_intercept' : ['True', 'False'],\n",
        "                                  'normalize' : ['True', 'False'],\n",
        "                                  'class_weight' : ['balanced', None],\n",
        "                                  'solver' : ['svd', 'cholesky', 'lsqr', 'sparse_cg']\n",
        "                              },\n",
        "                  \n",
        "                  'KN_classif' : {'n_neighbor' : [2,4,6,8,10,],\n",
        "                                  'p' : [2,3,5]                     \n",
        "                              },\n",
        "                  \n",
        "                  'SVC' : {'c' : [0.001, 0.01, 0.1, 1, 10, 100, 1000],\n",
        "                           'gamma' : ['scale', 'auto'],\n",
        "                           'class_weight' : ['balanced', None]                      \n",
        "                      },\n",
        "                  \n",
        "                  'DT_clif' : {'criterion': ['gini','entropy'],\n",
        "                                'max_features': ['sqrt','log2',None],\n",
        "                                'min_samples_leaf': [1,2,5,10],\n",
        "                                'min_samples_split' : [1,2,5,10,15,100],\n",
        "                                'max_depth': [5,8,15,25,30,None]\n",
        "                          },\n",
        "                  \n",
        "                  'RF_clif' : {'n_estimators' : [120,300,500,800,1200],\n",
        "                               'max_features': ['sqrt','log2',None],\n",
        "                                'min_samples_leaf': [1,2,5,10],\n",
        "                                'min_samples_split' : [1,2,5,10,15,100],\n",
        "                                'max_depth': [5,8,15,25,30,None]                      \n",
        "                          }\n",
        "              }\n",
        "\n",
        "\n",
        "\n",
        "# reading the feature and target spaces for our project\n",
        "x_data = pd.read_csv('/content/drive/My Drive/data/features_space.csv')\n",
        "y_data = pd.read_csv('/content/drive/My Drive/data/target_space.csv')\n",
        "# dropping an unnecessary column from our target space\n",
        "y_data.drop('Unnamed: 0', axis=1, inplace=True)\n",
        "\n",
        "\n",
        "# splitting our dataset into train, validation and test sets\n",
        "x_train, x_test, y_train, y_test = train_test_split(x_data, y_data, test_size = 0.3, random_state = 42)\n",
        "x_optimization, x_validation, y_optimization, y_vaildation = train_test_split(x_train, y_train, test_size = 0.3, random_state = 42)\n",
        "\n",
        "\n",
        "# resampling our optimization datasets, in order to prevent overfitting of our models on the majority class of the target feature in our\n",
        "x_optimization_resampled, y_optimization_resampled = SMOTE(random_state=42).fit_resample(x_optimization, y_optimization)\n",
        "# scaling our features in the optimization dataset\n",
        "x_optimization_scaled = StandardScaler().fit_transform(x_optimization_resampled)\n",
        "\n",
        "print('Tunnin the hyper-parameter...............')\n",
        "\n",
        "# initiating an empty list for storing the optimized models\n",
        "hyper_parameter_optimized_models = []\n",
        "\n",
        "# initiating the random search\n",
        "for grid, model in zip(parameter_grid.values(), model_objects) : \n",
        "\toptimizer = RandomizedSearchCV(estimator = model,\n",
        "\t\t\t\t\t\t\t\tparam_distributions = grid,\n",
        "\t\t\t\t\t\t\t\trandom_state = 42,\n",
        "\t\t\t\t\t\t\t\tcv = 3,\n",
        "\t\t\t\t\t\t\t\terror_score = -1,\n",
        "\t\t\t\t\t\t\t\tverbose = 10\n",
        "\t\t\t\t\t\t\t\t).fit(x_optimization_scaled, y_optimization_resampled.ravel())\n",
        "\t# appending the best estimator to a list\n",
        "\thyper_parameter_optimized_models.append(optimizer.best_estimator_)\n",
        "\n",
        "print('Hyper parameter tunning is finished.')\n",
        "\n",
        "\n",
        "\n",
        "\n",
        "# initiating the model selection proess\n",
        "print('Model selection .........')\n",
        "\n",
        "# resampling the validation sets that are to be used for model selection\n",
        "x_validation_resampled, y_validation_resampled = SMOTE(random_state=42).fit_resample(x_validation, y_vaildation)\n",
        "# scalling the traning set \n",
        "x_validation_scaled = StandardScaler().fit_transform(x_validation_resampled)\n",
        "# initiating an empty list to stre the validation scores of the optimized models\n",
        "optimized_model_validation_scores = []\n",
        "\n",
        "for optimized_model in hyper_parameter_optimized_models : \n",
        "\tmodel_validation_scores = cross_val_score(optimized_model, x_validation_scaled, y_validation_resampled.ravel(), cv=3)\n",
        "\toptimized_model_validation_scores.append(np.mean(model_validation_scores))\n",
        "\n",
        "# making a dictionary to store the results of the hyper-parameter optimization and the model selection process.\n",
        "results_dict = {'optimized_model':hyper_parameter_optimized_models,\n",
        "\t\t\t\t\t\t\t\t'validation_score':optimized_model_validation_scores\n",
        "\t\t\t\t\t\t}\n",
        "\n",
        "optimized_model_results = pd.DataFrame(results_dict)\n",
        "# saving the results of the hyper-parameter optimization and model_selection in a csv file\n",
        "optimized_model_results.to_csv('/content/drive/My Drive/data/model_optimizaion_report.csv')\n",
        "print('Model selection is finished')\n",
        "\n",
        "\n",
        "print('Initiating the process of our final phase to judge the average out-of-sample performance of our best found optimized model.')\n",
        "# selectin gthe best model by its index for the final predictions\n",
        "best_model_idx = optimized_model_results['validation_score'].idxmax(axis=0)\n",
        "best_model = optimized_model_results.iloc[best_model_idx,0]\n",
        "\n",
        "print('The best model to our finding is ', best_model)\n",
        "\n",
        "# we are utilizing the whole training dataset for this purpose.\n",
        "# resampling our training datasets, in order to prevent overfitting of our models on the majority class of the target feature in our training set\n",
        "x_train_resampled, y_train_resampled = SMOTE(random_state=42).fit_resample(x_train, y_train)\n",
        "# scaling our features in the training dataset\n",
        "x_train_scaled = StandardScaler().fit_transform(x_train_resampled)\n",
        "\n",
        "# utillizing cross validation to get an average out-of-sample performance of our best found optimized model for this dataset\n",
        "out_of_sample_cv_scores = cross_val_score(best_model, x_train_scaled, y_train_resampled.ravel(), cv = 3)\n",
        "avg_final_score = np.mean(out_of_sample_cv_scores)\n",
        "print('The final averaeg out-of-sample performance score of our best optimized model is', final_score)"
      ],
      "execution_count": null,
      "outputs": [
        {
          "output_type": "stream",
          "text": [
            "/usr/local/lib/python3.6/dist-packages/sklearn/utils/validation.py:760: DataConversionWarning: A column-vector y was passed when a 1d array was expected. Please change the shape of y to (n_samples, ), for example using ravel().\n",
            "  y = column_or_1d(y, warn=True)\n",
            "/usr/local/lib/python3.6/dist-packages/sklearn/utils/deprecation.py:87: FutureWarning: Function safe_indexing is deprecated; safe_indexing is deprecated in version 0.22 and will be removed in version 0.24.\n",
            "  warnings.warn(msg, category=FutureWarning)\n"
          ],
          "name": "stderr"
        },
        {
          "output_type": "stream",
          "text": [
            "Tunnin the hyper-parameter...............\n",
            "Fitting 3 folds for each of 10 candidates, totalling 30 fits\n",
            "[CV] solver=liblinear, random_state=42, penalty=l1, max_iter=100000, C=100 \n"
          ],
          "name": "stdout"
        },
        {
          "output_type": "stream",
          "text": [
            "[Parallel(n_jobs=1)]: Using backend SequentialBackend with 1 concurrent workers.\n"
          ],
          "name": "stderr"
        },
        {
          "output_type": "stream",
          "text": [
            "[CV]  solver=liblinear, random_state=42, penalty=l1, max_iter=100000, C=100, score=0.978, total= 1.1min\n",
            "[CV] solver=liblinear, random_state=42, penalty=l1, max_iter=100000, C=100 \n"
          ],
          "name": "stdout"
        },
        {
          "output_type": "stream",
          "text": [
            "[Parallel(n_jobs=1)]: Done   1 out of   1 | elapsed:  1.1min remaining:    0.0s\n"
          ],
          "name": "stderr"
        },
        {
          "output_type": "stream",
          "text": [
            "[CV]  solver=liblinear, random_state=42, penalty=l1, max_iter=100000, C=100, score=0.978, total=  46.3s\n",
            "[CV] solver=liblinear, random_state=42, penalty=l1, max_iter=100000, C=100 \n"
          ],
          "name": "stdout"
        },
        {
          "output_type": "stream",
          "text": [
            "[Parallel(n_jobs=1)]: Done   2 out of   2 | elapsed:  1.9min remaining:    0.0s\n"
          ],
          "name": "stderr"
        },
        {
          "output_type": "stream",
          "text": [
            "[CV]  solver=liblinear, random_state=42, penalty=l1, max_iter=100000, C=100, score=0.977, total=  46.3s\n",
            "[CV] solver=saga, random_state=42, penalty=l1, max_iter=100000, C=10 .\n"
          ],
          "name": "stdout"
        },
        {
          "output_type": "stream",
          "text": [
            "[Parallel(n_jobs=1)]: Done   3 out of   3 | elapsed:  2.7min remaining:    0.0s\n"
          ],
          "name": "stderr"
        },
        {
          "output_type": "stream",
          "text": [
            "[CV]  solver=saga, random_state=42, penalty=l1, max_iter=100000, C=10, score=0.978, total= 7.7min\n",
            "[CV] solver=saga, random_state=42, penalty=l1, max_iter=100000, C=10 .\n"
          ],
          "name": "stdout"
        },
        {
          "output_type": "stream",
          "text": [
            "[Parallel(n_jobs=1)]: Done   4 out of   4 | elapsed: 10.4min remaining:    0.0s\n"
          ],
          "name": "stderr"
        },
        {
          "output_type": "stream",
          "text": [
            "[CV]  solver=saga, random_state=42, penalty=l1, max_iter=100000, C=10, score=0.977, total= 9.3min\n",
            "[CV] solver=saga, random_state=42, penalty=l1, max_iter=100000, C=10 .\n"
          ],
          "name": "stdout"
        },
        {
          "output_type": "stream",
          "text": [
            "[Parallel(n_jobs=1)]: Done   5 out of   5 | elapsed: 19.7min remaining:    0.0s\n"
          ],
          "name": "stderr"
        },
        {
          "output_type": "stream",
          "text": [
            "[CV]  solver=saga, random_state=42, penalty=l1, max_iter=100000, C=10, score=0.977, total= 9.4min\n",
            "[CV] solver=liblinear, random_state=42, penalty=l1, max_iter=100000, C=0.001 \n"
          ],
          "name": "stdout"
        },
        {
          "output_type": "stream",
          "text": [
            "[Parallel(n_jobs=1)]: Done   6 out of   6 | elapsed: 29.1min remaining:    0.0s\n"
          ],
          "name": "stderr"
        },
        {
          "output_type": "stream",
          "text": [
            "[CV]  solver=liblinear, random_state=42, penalty=l1, max_iter=100000, C=0.001, score=0.957, total=   1.1s\n",
            "[CV] solver=liblinear, random_state=42, penalty=l1, max_iter=100000, C=0.001 \n"
          ],
          "name": "stdout"
        },
        {
          "output_type": "stream",
          "text": [
            "[Parallel(n_jobs=1)]: Done   7 out of   7 | elapsed: 29.1min remaining:    0.0s\n"
          ],
          "name": "stderr"
        },
        {
          "output_type": "stream",
          "text": [
            "[CV]  solver=liblinear, random_state=42, penalty=l1, max_iter=100000, C=0.001, score=0.958, total=   1.2s\n",
            "[CV] solver=liblinear, random_state=42, penalty=l1, max_iter=100000, C=0.001 \n"
          ],
          "name": "stdout"
        },
        {
          "output_type": "stream",
          "text": [
            "[Parallel(n_jobs=1)]: Done   8 out of   8 | elapsed: 29.1min remaining:    0.0s\n"
          ],
          "name": "stderr"
        },
        {
          "output_type": "stream",
          "text": [
            "[CV]  solver=liblinear, random_state=42, penalty=l1, max_iter=100000, C=0.001, score=0.958, total=   1.1s\n",
            "[CV] solver=liblinear, random_state=42, penalty=l1, max_iter=100000, C=10 \n"
          ],
          "name": "stdout"
        },
        {
          "output_type": "stream",
          "text": [
            "[Parallel(n_jobs=1)]: Done   9 out of   9 | elapsed: 29.1min remaining:    0.0s\n"
          ],
          "name": "stderr"
        },
        {
          "output_type": "stream",
          "text": [
            "[CV]  solver=liblinear, random_state=42, penalty=l1, max_iter=100000, C=10, score=0.977, total=  40.6s\n",
            "[CV] solver=liblinear, random_state=42, penalty=l1, max_iter=100000, C=10 \n",
            "[CV]  solver=liblinear, random_state=42, penalty=l1, max_iter=100000, C=10, score=0.978, total=  46.0s\n",
            "[CV] solver=liblinear, random_state=42, penalty=l1, max_iter=100000, C=10 \n",
            "[CV]  solver=liblinear, random_state=42, penalty=l1, max_iter=100000, C=10, score=0.977, total=  46.0s\n",
            "[CV] solver=saga, random_state=42, penalty=l1, max_iter=100000, C=0.1 \n",
            "[CV]  solver=saga, random_state=42, penalty=l1, max_iter=100000, C=0.1, score=0.977, total= 3.3min\n",
            "[CV] solver=saga, random_state=42, penalty=l1, max_iter=100000, C=0.1 \n",
            "[CV]  solver=saga, random_state=42, penalty=l1, max_iter=100000, C=0.1, score=0.977, total= 8.4min\n",
            "[CV] solver=saga, random_state=42, penalty=l1, max_iter=100000, C=0.1 \n",
            "[CV]  solver=saga, random_state=42, penalty=l1, max_iter=100000, C=0.1, score=0.976, total= 8.5min\n",
            "[CV] solver=liblinear, random_state=42, penalty=l1, max_iter=100000, C=0.01 \n",
            "[CV]  solver=liblinear, random_state=42, penalty=l1, max_iter=100000, C=0.01, score=0.972, total=   5.7s\n",
            "[CV] solver=liblinear, random_state=42, penalty=l1, max_iter=100000, C=0.01 \n",
            "[CV]  solver=liblinear, random_state=42, penalty=l1, max_iter=100000, C=0.01, score=0.972, total=   5.9s\n",
            "[CV] solver=liblinear, random_state=42, penalty=l1, max_iter=100000, C=0.01 \n",
            "[CV]  solver=liblinear, random_state=42, penalty=l1, max_iter=100000, C=0.01, score=0.972, total=   6.0s\n",
            "[CV] solver=saga, random_state=42, penalty=l1, max_iter=100000, C=0.001 \n",
            "[CV]  solver=saga, random_state=42, penalty=l1, max_iter=100000, C=0.001, score=0.962, total=   7.4s\n",
            "[CV] solver=saga, random_state=42, penalty=l1, max_iter=100000, C=0.001 \n",
            "[CV]  solver=saga, random_state=42, penalty=l1, max_iter=100000, C=0.001, score=0.962, total=  30.7s\n",
            "[CV] solver=saga, random_state=42, penalty=l1, max_iter=100000, C=0.001 \n",
            "[CV]  solver=saga, random_state=42, penalty=l1, max_iter=100000, C=0.001, score=0.963, total=  28.2s\n",
            "[CV] solver=saga, random_state=42, penalty=l1, max_iter=100000, C=100 \n",
            "[CV]  solver=saga, random_state=42, penalty=l1, max_iter=100000, C=100, score=0.978, total= 7.6min\n",
            "[CV] solver=saga, random_state=42, penalty=l1, max_iter=100000, C=100 \n",
            "[CV]  solver=saga, random_state=42, penalty=l1, max_iter=100000, C=100, score=0.977, total= 9.4min\n",
            "[CV] solver=saga, random_state=42, penalty=l1, max_iter=100000, C=100 \n",
            "[CV]  solver=saga, random_state=42, penalty=l1, max_iter=100000, C=100, score=0.977, total= 9.5min\n",
            "[CV] solver=liblinear, random_state=42, penalty=l1, max_iter=100000, C=0.1 \n",
            "[CV]  solver=liblinear, random_state=42, penalty=l1, max_iter=100000, C=0.1, score=0.976, total=  22.1s\n",
            "[CV] solver=liblinear, random_state=42, penalty=l1, max_iter=100000, C=0.1 \n",
            "[CV]  solver=liblinear, random_state=42, penalty=l1, max_iter=100000, C=0.1, score=0.977, total=  43.4s\n",
            "[CV] solver=liblinear, random_state=42, penalty=l1, max_iter=100000, C=0.1 \n",
            "[CV]  solver=liblinear, random_state=42, penalty=l1, max_iter=100000, C=0.1, score=0.976, total=  22.7s\n",
            "[CV] solver=saga, random_state=42, penalty=l1, max_iter=100000, C=1 ..\n",
            "[CV]  solver=saga, random_state=42, penalty=l1, max_iter=100000, C=1, score=0.978, total= 7.0min\n",
            "[CV] solver=saga, random_state=42, penalty=l1, max_iter=100000, C=1 ..\n",
            "[CV]  solver=saga, random_state=42, penalty=l1, max_iter=100000, C=1, score=0.977, total= 9.3min\n",
            "[CV] solver=saga, random_state=42, penalty=l1, max_iter=100000, C=1 ..\n",
            "[CV]  solver=saga, random_state=42, penalty=l1, max_iter=100000, C=1, score=0.977, total= 9.4min\n"
          ],
          "name": "stdout"
        },
        {
          "output_type": "stream",
          "text": [
            "[Parallel(n_jobs=1)]: Done  30 out of  30 | elapsed: 106.6min finished\n"
          ],
          "name": "stderr"
        },
        {
          "output_type": "stream",
          "text": [
            "Fitting 3 folds for each of 10 candidates, totalling 30 fits\n",
            "[CV] solver=newton-cg, random_state=42, penalty=l2, max_iter=100000, C=0.1 \n"
          ],
          "name": "stdout"
        },
        {
          "output_type": "stream",
          "text": [
            "[Parallel(n_jobs=1)]: Using backend SequentialBackend with 1 concurrent workers.\n"
          ],
          "name": "stderr"
        },
        {
          "output_type": "stream",
          "text": [
            "[CV]  solver=newton-cg, random_state=42, penalty=l2, max_iter=100000, C=0.1, score=0.976, total=   7.1s\n",
            "[CV] solver=newton-cg, random_state=42, penalty=l2, max_iter=100000, C=0.1 \n"
          ],
          "name": "stdout"
        },
        {
          "output_type": "stream",
          "text": [
            "[Parallel(n_jobs=1)]: Done   1 out of   1 | elapsed:    7.1s remaining:    0.0s\n"
          ],
          "name": "stderr"
        },
        {
          "output_type": "stream",
          "text": [
            "[CV]  solver=newton-cg, random_state=42, penalty=l2, max_iter=100000, C=0.1, score=0.976, total=   7.1s\n",
            "[CV] solver=newton-cg, random_state=42, penalty=l2, max_iter=100000, C=0.1 \n"
          ],
          "name": "stdout"
        },
        {
          "output_type": "stream",
          "text": [
            "[Parallel(n_jobs=1)]: Done   2 out of   2 | elapsed:   14.2s remaining:    0.0s\n"
          ],
          "name": "stderr"
        },
        {
          "output_type": "stream",
          "text": [
            "[CV]  solver=newton-cg, random_state=42, penalty=l2, max_iter=100000, C=0.1, score=0.975, total=   7.6s\n",
            "[CV] solver=newton-cg, random_state=42, penalty=l2, max_iter=100000, C=10 \n"
          ],
          "name": "stdout"
        },
        {
          "output_type": "stream",
          "text": [
            "[Parallel(n_jobs=1)]: Done   3 out of   3 | elapsed:   21.8s remaining:    0.0s\n"
          ],
          "name": "stderr"
        },
        {
          "output_type": "stream",
          "text": [
            "[CV]  solver=newton-cg, random_state=42, penalty=l2, max_iter=100000, C=10, score=0.978, total=  10.3s\n",
            "[CV] solver=newton-cg, random_state=42, penalty=l2, max_iter=100000, C=10 \n"
          ],
          "name": "stdout"
        },
        {
          "output_type": "stream",
          "text": [
            "[Parallel(n_jobs=1)]: Done   4 out of   4 | elapsed:   32.2s remaining:    0.0s\n"
          ],
          "name": "stderr"
        },
        {
          "output_type": "stream",
          "text": [
            "[CV]  solver=newton-cg, random_state=42, penalty=l2, max_iter=100000, C=10, score=0.979, total=  12.8s\n",
            "[CV] solver=newton-cg, random_state=42, penalty=l2, max_iter=100000, C=10 \n"
          ],
          "name": "stdout"
        },
        {
          "output_type": "stream",
          "text": [
            "[Parallel(n_jobs=1)]: Done   5 out of   5 | elapsed:   45.0s remaining:    0.0s\n"
          ],
          "name": "stderr"
        },
        {
          "output_type": "stream",
          "text": [
            "[CV]  solver=newton-cg, random_state=42, penalty=l2, max_iter=100000, C=10, score=0.978, total=  10.9s\n",
            "[CV] solver=newton-cg, random_state=42, penalty=l2, max_iter=100000, C=0.001 \n"
          ],
          "name": "stdout"
        },
        {
          "output_type": "stream",
          "text": [
            "[Parallel(n_jobs=1)]: Done   6 out of   6 | elapsed:   55.8s remaining:    0.0s\n"
          ],
          "name": "stderr"
        },
        {
          "output_type": "stream",
          "text": [
            "[CV]  solver=newton-cg, random_state=42, penalty=l2, max_iter=100000, C=0.001, score=0.962, total=   4.1s\n",
            "[CV] solver=newton-cg, random_state=42, penalty=l2, max_iter=100000, C=0.001 \n"
          ],
          "name": "stdout"
        },
        {
          "output_type": "stream",
          "text": [
            "[Parallel(n_jobs=1)]: Done   7 out of   7 | elapsed:   59.9s remaining:    0.0s\n"
          ],
          "name": "stderr"
        },
        {
          "output_type": "stream",
          "text": [
            "[CV]  solver=newton-cg, random_state=42, penalty=l2, max_iter=100000, C=0.001, score=0.963, total=   4.2s\n",
            "[CV] solver=newton-cg, random_state=42, penalty=l2, max_iter=100000, C=0.001 \n"
          ],
          "name": "stdout"
        },
        {
          "output_type": "stream",
          "text": [
            "[Parallel(n_jobs=1)]: Done   8 out of   8 | elapsed:  1.1min remaining:    0.0s\n"
          ],
          "name": "stderr"
        },
        {
          "output_type": "stream",
          "text": [
            "[CV]  solver=newton-cg, random_state=42, penalty=l2, max_iter=100000, C=0.001, score=0.962, total=   4.1s\n",
            "[CV] solver=sag, random_state=42, penalty=l2, max_iter=100000, C=10 ..\n"
          ],
          "name": "stdout"
        },
        {
          "output_type": "stream",
          "text": [
            "[Parallel(n_jobs=1)]: Done   9 out of   9 | elapsed:  1.1min remaining:    0.0s\n"
          ],
          "name": "stderr"
        },
        {
          "output_type": "stream",
          "text": [
            "[CV]  solver=sag, random_state=42, penalty=l2, max_iter=100000, C=10, score=0.978, total= 4.0min\n",
            "[CV] solver=sag, random_state=42, penalty=l2, max_iter=100000, C=10 ..\n",
            "[CV]  solver=sag, random_state=42, penalty=l2, max_iter=100000, C=10, score=0.978, total= 7.7min\n",
            "[CV] solver=sag, random_state=42, penalty=l2, max_iter=100000, C=10 ..\n",
            "[CV]  solver=sag, random_state=42, penalty=l2, max_iter=100000, C=10, score=0.977, total= 7.2min\n",
            "[CV] solver=saga, random_state=42, penalty=l2, max_iter=100000, C=0.1 \n",
            "[CV]  solver=saga, random_state=42, penalty=l2, max_iter=100000, C=0.1, score=0.976, total= 1.3min\n",
            "[CV] solver=saga, random_state=42, penalty=l2, max_iter=100000, C=0.1 \n",
            "[CV]  solver=saga, random_state=42, penalty=l2, max_iter=100000, C=0.1, score=0.976, total= 4.3min\n",
            "[CV] solver=saga, random_state=42, penalty=l2, max_iter=100000, C=0.1 \n",
            "[CV]  solver=saga, random_state=42, penalty=l2, max_iter=100000, C=0.1, score=0.975, total= 4.3min\n",
            "[CV] solver=lbfgs, random_state=42, penalty=l2, max_iter=100000, C=0.1 \n",
            "[CV]  solver=lbfgs, random_state=42, penalty=l2, max_iter=100000, C=0.1, score=0.976, total=   5.2s\n",
            "[CV] solver=lbfgs, random_state=42, penalty=l2, max_iter=100000, C=0.1 \n",
            "[CV]  solver=lbfgs, random_state=42, penalty=l2, max_iter=100000, C=0.1, score=0.976, total=   5.3s\n",
            "[CV] solver=lbfgs, random_state=42, penalty=l2, max_iter=100000, C=0.1 \n",
            "[CV]  solver=lbfgs, random_state=42, penalty=l2, max_iter=100000, C=0.1, score=0.975, total=   5.6s\n",
            "[CV] solver=lbfgs, random_state=42, penalty=l2, max_iter=100000, C=1 .\n",
            "[CV]  solver=lbfgs, random_state=42, penalty=l2, max_iter=100000, C=1, score=0.977, total=  11.0s\n",
            "[CV] solver=lbfgs, random_state=42, penalty=l2, max_iter=100000, C=1 .\n",
            "[CV]  solver=lbfgs, random_state=42, penalty=l2, max_iter=100000, C=1, score=0.978, total=   8.9s\n",
            "[CV] solver=lbfgs, random_state=42, penalty=l2, max_iter=100000, C=1 .\n",
            "[CV]  solver=lbfgs, random_state=42, penalty=l2, max_iter=100000, C=1, score=0.977, total=   7.9s\n",
            "[CV] solver=lbfgs, random_state=42, penalty=l2, max_iter=100000, C=0.001 \n",
            "[CV]  solver=lbfgs, random_state=42, penalty=l2, max_iter=100000, C=0.001, score=0.962, total=   1.5s\n",
            "[CV] solver=lbfgs, random_state=42, penalty=l2, max_iter=100000, C=0.001 \n",
            "[CV]  solver=lbfgs, random_state=42, penalty=l2, max_iter=100000, C=0.001, score=0.963, total=   1.4s\n",
            "[CV] solver=lbfgs, random_state=42, penalty=l2, max_iter=100000, C=0.001 \n",
            "[CV]  solver=lbfgs, random_state=42, penalty=l2, max_iter=100000, C=0.001, score=0.962, total=   1.5s\n",
            "[CV] solver=lbfgs, random_state=42, penalty=l2, max_iter=100000, C=100 \n",
            "[CV]  solver=lbfgs, random_state=42, penalty=l2, max_iter=100000, C=100, score=0.978, total=  11.6s\n",
            "[CV] solver=lbfgs, random_state=42, penalty=l2, max_iter=100000, C=100 \n",
            "[CV]  solver=lbfgs, random_state=42, penalty=l2, max_iter=100000, C=100, score=0.979, total=  14.3s\n",
            "[CV] solver=lbfgs, random_state=42, penalty=l2, max_iter=100000, C=100 \n",
            "[CV]  solver=lbfgs, random_state=42, penalty=l2, max_iter=100000, C=100, score=0.978, total=  13.7s\n",
            "[CV] solver=lbfgs, random_state=42, penalty=l2, max_iter=100000, C=0.01 \n",
            "[CV]  solver=lbfgs, random_state=42, penalty=l2, max_iter=100000, C=0.01, score=0.971, total=   3.1s\n",
            "[CV] solver=lbfgs, random_state=42, penalty=l2, max_iter=100000, C=0.01 \n",
            "[CV]  solver=lbfgs, random_state=42, penalty=l2, max_iter=100000, C=0.01, score=0.972, total=   3.3s\n",
            "[CV] solver=lbfgs, random_state=42, penalty=l2, max_iter=100000, C=0.01 \n",
            "[CV]  solver=lbfgs, random_state=42, penalty=l2, max_iter=100000, C=0.01, score=0.972, total=   3.2s\n"
          ],
          "name": "stdout"
        },
        {
          "output_type": "stream",
          "text": [
            "[Parallel(n_jobs=1)]: Done  30 out of  30 | elapsed: 31.5min finished\n"
          ],
          "name": "stderr"
        },
        {
          "output_type": "stream",
          "text": [
            "Fitting 3 folds for each of 10 candidates, totalling 30 fits\n",
            "[CV] solver=saga, random_state=42, penalty=elasticnet, max_iter=100000, l1_ratio=0.3, C=0.001 \n"
          ],
          "name": "stdout"
        },
        {
          "output_type": "stream",
          "text": [
            "[Parallel(n_jobs=1)]: Using backend SequentialBackend with 1 concurrent workers.\n"
          ],
          "name": "stderr"
        },
        {
          "output_type": "stream",
          "text": [
            "[CV]  solver=saga, random_state=42, penalty=elasticnet, max_iter=100000, l1_ratio=0.3, C=0.001, score=0.962, total=   5.9s\n",
            "[CV] solver=saga, random_state=42, penalty=elasticnet, max_iter=100000, l1_ratio=0.3, C=0.001 \n"
          ],
          "name": "stdout"
        },
        {
          "output_type": "stream",
          "text": [
            "[Parallel(n_jobs=1)]: Done   1 out of   1 | elapsed:    5.9s remaining:    0.0s\n"
          ],
          "name": "stderr"
        },
        {
          "output_type": "stream",
          "text": [
            "[CV]  solver=saga, random_state=42, penalty=elasticnet, max_iter=100000, l1_ratio=0.3, C=0.001, score=0.962, total=  21.4s\n",
            "[CV] solver=saga, random_state=42, penalty=elasticnet, max_iter=100000, l1_ratio=0.3, C=0.001 \n"
          ],
          "name": "stdout"
        },
        {
          "output_type": "stream",
          "text": [
            "[Parallel(n_jobs=1)]: Done   2 out of   2 | elapsed:   27.4s remaining:    0.0s\n"
          ],
          "name": "stderr"
        },
        {
          "output_type": "stream",
          "text": [
            "[CV]  solver=saga, random_state=42, penalty=elasticnet, max_iter=100000, l1_ratio=0.3, C=0.001, score=0.962, total=  21.9s\n",
            "[CV] solver=saga, random_state=42, penalty=elasticnet, max_iter=100000, l1_ratio=0.5, C=0.001 \n"
          ],
          "name": "stdout"
        },
        {
          "output_type": "stream",
          "text": [
            "[Parallel(n_jobs=1)]: Done   3 out of   3 | elapsed:   49.2s remaining:    0.0s\n"
          ],
          "name": "stderr"
        },
        {
          "output_type": "stream",
          "text": [
            "[CV]  solver=saga, random_state=42, penalty=elasticnet, max_iter=100000, l1_ratio=0.5, C=0.001, score=0.962, total=   5.7s\n",
            "[CV] solver=saga, random_state=42, penalty=elasticnet, max_iter=100000, l1_ratio=0.5, C=0.001 \n"
          ],
          "name": "stdout"
        },
        {
          "output_type": "stream",
          "text": [
            "[Parallel(n_jobs=1)]: Done   4 out of   4 | elapsed:   54.9s remaining:    0.0s\n"
          ],
          "name": "stderr"
        },
        {
          "output_type": "stream",
          "text": [
            "[CV]  solver=saga, random_state=42, penalty=elasticnet, max_iter=100000, l1_ratio=0.5, C=0.001, score=0.963, total=  19.7s\n",
            "[CV] solver=saga, random_state=42, penalty=elasticnet, max_iter=100000, l1_ratio=0.5, C=0.001 \n"
          ],
          "name": "stdout"
        },
        {
          "output_type": "stream",
          "text": [
            "[Parallel(n_jobs=1)]: Done   5 out of   5 | elapsed:  1.2min remaining:    0.0s\n"
          ],
          "name": "stderr"
        },
        {
          "output_type": "stream",
          "text": [
            "[CV]  solver=saga, random_state=42, penalty=elasticnet, max_iter=100000, l1_ratio=0.5, C=0.001, score=0.963, total=  20.0s\n",
            "[CV] solver=saga, random_state=42, penalty=elasticnet, max_iter=100000, l1_ratio=0.7, C=0.1 \n"
          ],
          "name": "stdout"
        },
        {
          "output_type": "stream",
          "text": [
            "[Parallel(n_jobs=1)]: Done   6 out of   6 | elapsed:  1.6min remaining:    0.0s\n"
          ],
          "name": "stderr"
        },
        {
          "output_type": "stream",
          "text": [
            "[CV]  solver=saga, random_state=42, penalty=elasticnet, max_iter=100000, l1_ratio=0.7, C=0.1, score=0.976, total= 2.4min\n",
            "[CV] solver=saga, random_state=42, penalty=elasticnet, max_iter=100000, l1_ratio=0.7, C=0.1 \n"
          ],
          "name": "stdout"
        },
        {
          "output_type": "stream",
          "text": [
            "[Parallel(n_jobs=1)]: Done   7 out of   7 | elapsed:  4.0min remaining:    0.0s\n"
          ],
          "name": "stderr"
        },
        {
          "output_type": "stream",
          "text": [
            "[CV]  solver=saga, random_state=42, penalty=elasticnet, max_iter=100000, l1_ratio=0.7, C=0.1, score=0.976, total= 7.0min\n",
            "[CV] solver=saga, random_state=42, penalty=elasticnet, max_iter=100000, l1_ratio=0.7, C=0.1 \n"
          ],
          "name": "stdout"
        },
        {
          "output_type": "stream",
          "text": [
            "[Parallel(n_jobs=1)]: Done   8 out of   8 | elapsed: 11.0min remaining:    0.0s\n"
          ],
          "name": "stderr"
        },
        {
          "output_type": "stream",
          "text": [
            "[CV]  solver=saga, random_state=42, penalty=elasticnet, max_iter=100000, l1_ratio=0.7, C=0.1, score=0.975, total= 6.9min\n",
            "[CV] solver=saga, random_state=42, penalty=elasticnet, max_iter=100000, l1_ratio=0.7, C=0.01 \n"
          ],
          "name": "stdout"
        },
        {
          "output_type": "stream",
          "text": [
            "[Parallel(n_jobs=1)]: Done   9 out of   9 | elapsed: 17.9min remaining:    0.0s\n"
          ],
          "name": "stderr"
        },
        {
          "output_type": "stream",
          "text": [
            "[CV]  solver=saga, random_state=42, penalty=elasticnet, max_iter=100000, l1_ratio=0.7, C=0.01, score=0.973, total=  42.2s\n",
            "[CV] solver=saga, random_state=42, penalty=elasticnet, max_iter=100000, l1_ratio=0.7, C=0.01 \n",
            "[CV]  solver=saga, random_state=42, penalty=elasticnet, max_iter=100000, l1_ratio=0.7, C=0.01, score=0.973, total= 2.3min\n",
            "[CV] solver=saga, random_state=42, penalty=elasticnet, max_iter=100000, l1_ratio=0.7, C=0.01 \n",
            "[CV]  solver=saga, random_state=42, penalty=elasticnet, max_iter=100000, l1_ratio=0.7, C=0.01, score=0.972, total= 2.5min\n",
            "[CV] solver=saga, random_state=42, penalty=elasticnet, max_iter=100000, l1_ratio=0.3, C=0.01 \n",
            "[CV]  solver=saga, random_state=42, penalty=elasticnet, max_iter=100000, l1_ratio=0.3, C=0.01, score=0.972, total=  31.2s\n",
            "[CV] solver=saga, random_state=42, penalty=elasticnet, max_iter=100000, l1_ratio=0.3, C=0.01 \n",
            "[CV]  solver=saga, random_state=42, penalty=elasticnet, max_iter=100000, l1_ratio=0.3, C=0.01, score=0.972, total= 1.8min\n",
            "[CV] solver=saga, random_state=42, penalty=elasticnet, max_iter=100000, l1_ratio=0.3, C=0.01 \n",
            "[CV]  solver=saga, random_state=42, penalty=elasticnet, max_iter=100000, l1_ratio=0.3, C=0.01, score=0.972, total= 1.8min\n",
            "[CV] solver=saga, random_state=42, penalty=elasticnet, max_iter=100000, l1_ratio=0.5, C=10 \n",
            "[CV]  solver=saga, random_state=42, penalty=elasticnet, max_iter=100000, l1_ratio=0.5, C=10, score=0.978, total= 7.5min\n",
            "[CV] solver=saga, random_state=42, penalty=elasticnet, max_iter=100000, l1_ratio=0.5, C=10 \n",
            "[CV]  solver=saga, random_state=42, penalty=elasticnet, max_iter=100000, l1_ratio=0.5, C=10, score=0.977, total= 9.4min\n",
            "[CV] solver=saga, random_state=42, penalty=elasticnet, max_iter=100000, l1_ratio=0.5, C=10 \n",
            "[CV]  solver=saga, random_state=42, penalty=elasticnet, max_iter=100000, l1_ratio=0.5, C=10, score=0.976, total= 9.6min\n",
            "[CV] solver=saga, random_state=42, penalty=elasticnet, max_iter=100000, l1_ratio=0.5, C=100 \n",
            "[CV]  solver=saga, random_state=42, penalty=elasticnet, max_iter=100000, l1_ratio=0.5, C=100, score=0.978, total= 7.8min\n",
            "[CV] solver=saga, random_state=42, penalty=elasticnet, max_iter=100000, l1_ratio=0.5, C=100 \n",
            "[CV]  solver=saga, random_state=42, penalty=elasticnet, max_iter=100000, l1_ratio=0.5, C=100, score=0.977, total= 9.6min\n",
            "[CV] solver=saga, random_state=42, penalty=elasticnet, max_iter=100000, l1_ratio=0.5, C=100 \n"
          ],
          "name": "stdout"
        }
      ]
    },
    {
      "cell_type": "code",
      "metadata": {
        "id": "DXTzvaoD0HC_",
        "colab_type": "code",
        "colab": {}
      },
      "source": [
        "parameter_grid = {'LR_l1' : {'penalty' : ['l1'],\n",
        "                              'C' : [0.001, 0.01, 0.1, 1, 10, 100],\n",
        "                              'random_state' : [42],\n",
        "                              'solver' : ['liblinear', 'saga'],\n",
        "                              'max_iter' : [100000]\n",
        "                          },\n",
        "\t\t\t\t\n",
        "                  'LR_l2' : {'penalty' : ['l2'],\n",
        "                              'C' : [0.001, 0.01, 0.1, 1, 10, 100],\n",
        "                              'random_state' : [42],\n",
        "                              'solver' : ['newton-cg', 'lbfgs', 'sag', 'saga'],\n",
        "                              'max_iter' : [100000]\n",
        "                          },\n",
        "\n",
        "                  'LR_ElNet' : {'penalty' : ['elasticnet'],\n",
        "                                'l1_ratio' : [0.3, 0.5, 0.7],\n",
        "                                'C' : [0.001, 0.01, 0.1, 1, 10, 100],\n",
        "                                'random_state' : [42],\n",
        "                                'solver' : ['saga'],\n",
        "                                'max_iter' : [100000]\n",
        "                              },\n",
        "\n",
        "                  'Pass_Agg_clif' : {'c' : [0.001, 0.01, 0.1, 1, 10, 100],\n",
        "                                      'fit_intercept' : ['True', 'False'],\n",
        "                                      'random_state' : [42],\n",
        "                                      'loss' = ['hinge', 'squared_hinge'],\n",
        "                                      'class_weight' : ['balanced', None]\n",
        "                                  },\n",
        "                  \n",
        "                  'Ridge_clif' : {'alpha' : [500.0, 50.0, 5.0, 0.5, 0.05, 0.005],\n",
        "                                  'fit_intercept' : ['True', 'False'],\n",
        "                                  'normalize' : ['True', 'False'],\n",
        "                                  'class_weight' : ['balanced', None],\n",
        "                                  'solver' : ['svd', 'cholesky', 'lsqr', 'sparse_cg']\n",
        "                              },\n",
        "                  \n",
        "                  'KN_classif' : {'n_neighbor' : [2,4,6,8,10,],\n",
        "                                  'p' : [2,3,5]                     \n",
        "                              },\n",
        "                  \n",
        "                  'SVC' : {'c' : [0.001, 0.01, 0.1, 1, 10, 100, 1000],\n",
        "                           'gamma' : ['scale', 'auto'],\n",
        "                           'class_weight' : ['balanced', None]                      \n",
        "                      },\n",
        "                  \n",
        "                  'DT_clif' : {'criterion': ['gini','entropy'],\n",
        "                                'max_features': ['sqrt','log2',None],\n",
        "                                'min_samples_leaf': [1,2,5,10],\n",
        "                                'min_samples_split' : [1,2,5,10,15,100],\n",
        "                                'max_depth': [5,8,15,25,30,None]\n",
        "                          },\n",
        "                  \n",
        "                  'RF_clif' : {'n_estimators' : [120,300,500,800,1200],\n",
        "                               'max_features': ['sqrt','log2',None],\n",
        "                                'min_samples_leaf': [1,2,5,10],\n",
        "                                'min_samples_split' : [1,2,5,10,15,100],\n",
        "                                'max_depth': [5,8,15,25,30,None]                      \n",
        "                          }\n",
        "              }\n",
        "'''\n",
        "from sklearn.preprocessing import StandardScaler\n",
        "scaler = StandardScaler().fit(x_train_res)\n",
        "x_train_scaled = pd.DataFrame(scaler.transform(x_train_res), columns = x_train_res.columns)\n",
        "x_test_scaled = pd.DataFrame(scaler.transform(x_test), columns = x_test.columns)\n",
        "'''"
      ],
      "execution_count": null,
      "outputs": []
    }
  ]
}